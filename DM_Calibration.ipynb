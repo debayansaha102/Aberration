{
 "cells": [
  {
   "cell_type": "code",
   "execution_count": 77,
   "metadata": {
    "collapsed": true
   },
   "outputs": [],
   "source": [
    "from keras.models import Model\n",
    "from keras.layers import *\n",
    "import numpy as np\n",
    "from keras.optimizers import Adam\n",
    "import matplotlib.pyplot as plt\n",
    "import sys\n",
    "sys.path.append(\"/Users/dsaha/Python/alpao_calibration\")\n",
    "from calibration import Calibration\n",
    "%matplotlib inline\n",
    "import json\n",
    "from scipy.spatial.distance import cdist\n",
    "mirror = Calibration()\n",
    "import datetime\n",
    "import os"
   ]
  },
  {
   "cell_type": "code",
   "execution_count": 79,
   "metadata": {
    "collapsed": true
   },
   "outputs": [],
   "source": [
    "Name = {0: 'ObliqueAstigmation', 1: 'Defocus', 2: 'VerticalAstigmation', 3: 'VerticalTrefoil', 4: 'VerticalComa', 5: 'ObliqueTrefoil'}"
   ]
  },
  {
   "cell_type": "code",
   "execution_count": 40,
   "metadata": {
    "collapsed": true
   },
   "outputs": [],
   "source": [
    "dataset = np.loadtxt(\"/Volumes/Debayan/Calibration_data_Alpao_BScope/Acquisition/20180205_Random_10000.txt\")\n",
    "actuators = dataset[:,:97]\n",
    "zernikes = dataset[:,100:]\n",
    "\n",
    "#dataset = np.loadtxt(\"/Users/dsaha/Desktop/calibration_measurement_random_2000.txt\")\n",
    "#actuators1 = dataset[:, :97]\n",
    "#zernikes1 = dataset[:, 97:]\n",
    "\n",
    "#np.savetxt(\"/Users/dsaha/Desktop/TrialActuatorsNew_1.txt\" , actuators[1,:].reshape(1,97), delimiter=\",\")\n",
    "#np.savetxt(\"/Users/dsaha/Desktop/TrialActuatorsOld.txt\" , new, delimiter=\",\")\n",
    "#print(\"New Zernikes\" + str(zernikes[1,:]))\n",
    "#print(\"Old Zernikes\" + str(zernikes1[0,:]))\n",
    "#np.mean(actuators,axis=-1)\n",
    "#print(np.std(zernikes,axis=1))\n",
    "#plt.hist(actuators.flatten(),50);\n",
    "#plt.subplot(1,2,1)\n",
    "#plt.hist(zernikes.flatten(),50);\n",
    "#plt.subplot(1,2,2)\n",
    "#plt.hist(zernikes1.flatten(),50);\n",
    "\n",
    "#np.min(zernikes)\n",
    "#plt.figure(figsize=(10,7))\n",
    "#plt.subplot(2,3,1)\n",
    "#mirror.plot_acc(actuators[1,:], cmap = \"coolwarm\")\n",
    "#plt.subplot(2,3,2)\n",
    "#plt.imshow(np.sum([_z*mirror.zern_modes[i] for i,_z in enumerate(zernikes[1,:])], axis = 0))\n",
    "#plt.axis('off')\n",
    "#plt.subplot(2,3,3)\n",
    "#plt.bar(range(0,66),zernikes[1,:])\n",
    " \n",
    "#plt.subplot(2,3,4)\n",
    "#mirror.plot_acc(actuators1[100,:], cmap = \"coolwarm\")\n",
    "#plt.subplot(2,3,5)\n",
    "#plt.imshow(np.sum([_z*mirror.zern_modes[i] for i,_z in enumerate(zernikes1[100,:])], axis = 0))\n",
    "#plt.axis('off')\n",
    "#plt.subplot(2,3,6)\n",
    "#plt.bar(range(0,66),zernikes1[0,:])"
   ]
  },
  {
   "cell_type": "code",
   "execution_count": 275,
   "metadata": {
    "collapsed": true
   },
   "outputs": [],
   "source": [
    "#da = cdist(actuators,actuators1)\n",
    "#dz = cdist(zernikes[:,3:],zernikes1[:,3:])\n",
    "#plt.hist(dz.flatten(),50);\n",
    "#dz.shape"
   ]
  },
  {
   "cell_type": "code",
   "execution_count": null,
   "metadata": {
    "collapsed": true
   },
   "outputs": [],
   "source": [
    "#print(np.where(da<0.27))\n",
    "#print(dz[4774,1385])\n",
    "#print(np.min(dz))\n",
    "#print(np.where(dz<0.1767))\n",
    "#dz[9510,1212]"
   ]
  },
  {
   "cell_type": "code",
   "execution_count": 756,
   "metadata": {
    "collapsed": true
   },
   "outputs": [],
   "source": [
    "#plt.subplot(2,2,1)\n",
    "#mirror.plot_acc(actuators[4774,:], cmap = \"coolwarm\")\n",
    "#plt.subplot(2,2,2)\n",
    "#plt.imshow(np.sum([_z*mirror.zern_modes[i] for i,_z in enumerate(zernikes[4774,3:])], axis = 0))\n",
    "#plt.axis('off') \n",
    "#plt.subplot(2,2,3)\n",
    "#mirror.plot_acc(actuators1[1385,:], cmap = \"coolwarm\")\n",
    "#plt.subplot(2,2,4)\n",
    "#plt.imshow(np.sum([_z*mirror.zern_modes[i] for i,_z in enumerate(zernikes1[1385,3:])], axis = 0))\n",
    "#plt.axis('off')"
   ]
  },
  {
   "cell_type": "code",
   "execution_count": 757,
   "metadata": {
    "collapsed": true
   },
   "outputs": [],
   "source": [
    "#plt.figure(figsize=(10,7))\n",
    "#plt.subplot(2,2,1)\n",
    "#plt.plot(zernikes[4774,3:])\n",
    "#plt.subplot(2,2,2)\n",
    "#plt.plot(actuators[4774,:])\n",
    "#plt.subplot(2,2,3)\n",
    "#plt.plot(zernikes1[1385,3:])\n",
    "#plt.subplot(2,2,4)\n",
    "#plt.plot(actuators1[1385,])"
   ]
  },
  {
   "cell_type": "code",
   "execution_count": 758,
   "metadata": {
    "collapsed": true
   },
   "outputs": [],
   "source": [
    "#plt.subplot(2,2,1)\n",
    "#mirror.plot_acc(actuators[9510,:], cmap = \"coolwarm\")\n",
    "#plt.subplot(2,2,2)\n",
    "#plt.imshow(np.sum([_z*mirror.zern_modes[i] for i,_z in enumerate(zernikes[9510,3:])], axis = 0))\n",
    "#plt.axis('off') \n",
    "#plt.subplot(2,2,3)\n",
    "#mirror.plot_acc(actuators1[1212,:], cmap = \"coolwarm\")\n",
    "#plt.subplot(2,2,4)\n",
    "#plt.imshow(np.sum([_z*mirror.zern_modes[i] for i,_z in enumerate(zernikes1[1212,3:])], axis = 0))\n",
    "#plt.axis('off')"
   ]
  },
  {
   "cell_type": "code",
   "execution_count": 759,
   "metadata": {
    "collapsed": true
   },
   "outputs": [],
   "source": [
    "#plt.figure(figsize=(10,7))\n",
    "#plt.subplot(2,2,1)\n",
    "#plt.plot(zernikes[9510,:])\n",
    "#plt.subplot(2,2,2)\n",
    "#plt.plot(actuators[9510,:])\n",
    "#plt.subplot(2,2,3)\n",
    "#plt.plot(zernikes1[1212,:])\n",
    "#plt.subplot(2,2,4)\n",
    "#plt.plot(actuators1[1212,])\n"
   ]
  },
  {
   "cell_type": "code",
   "execution_count": 760,
   "metadata": {
    "collapsed": true
   },
   "outputs": [],
   "source": [
    "#actuators.shape, zernikes.shape\n",
    "#print(np.min(actuators),np.max(actuators))\n",
    "#print(np.min(actuators1),np.max(actuators1))"
   ]
  },
  {
   "cell_type": "code",
   "execution_count": 41,
   "metadata": {
    "collapsed": true
   },
   "outputs": [],
   "source": [
    "inp = Input(shape=(63,))\n",
    "\n",
    "lay = Dense(64, activation=\"tanh\")(inp)\n",
    "\n",
    "#for _ in range(3):\n",
    "#    lay = Dense(128, activation=\"sigmoid\")(lay)\n",
    "    \n",
    "oup = Dense(97)(lay)\n",
    "#oup = Dense(97)(inp)\n",
    "m = Model(inp,oup)"
   ]
  },
  {
   "cell_type": "code",
   "execution_count": 42,
   "metadata": {},
   "outputs": [
    {
     "name": "stdout",
     "output_type": "stream",
     "text": [
      "_________________________________________________________________\n",
      "Layer (type)                 Output Shape              Param #   \n",
      "=================================================================\n",
      "input_4 (InputLayer)         (None, 63)                0         \n",
      "_________________________________________________________________\n",
      "dense_6 (Dense)              (None, 64)                4096      \n",
      "_________________________________________________________________\n",
      "dense_7 (Dense)              (None, 97)                6305      \n",
      "=================================================================\n",
      "Total params: 10,401\n",
      "Trainable params: 10,401\n",
      "Non-trainable params: 0\n",
      "_________________________________________________________________\n"
     ]
    }
   ],
   "source": [
    "m.summary()"
   ]
  },
  {
   "cell_type": "code",
   "execution_count": 43,
   "metadata": {
    "collapsed": true
   },
   "outputs": [],
   "source": [
    "m.compile(Adam(lr=0.0004),'mse')\n",
    "#m.compile(loss='mean_squared_logarithmic_error',optimizer=Adam(0.0004))"
   ]
  },
  {
   "cell_type": "code",
   "execution_count": 44,
   "metadata": {
    "scrolled": true
   },
   "outputs": [
    {
     "name": "stdout",
     "output_type": "stream",
     "text": [
      "Train on 9000 samples, validate on 1000 samples\n",
      "Epoch 1/200\n",
      "9000/9000 [==============================] - 1s 100us/step - loss: 0.0035 - val_loss: 0.0025\n",
      "Epoch 2/200\n",
      "9000/9000 [==============================] - 1s 94us/step - loss: 0.0023 - val_loss: 0.0021\n",
      "Epoch 3/200\n",
      "9000/9000 [==============================] - 1s 79us/step - loss: 0.0020 - val_loss: 0.0019\n",
      "Epoch 4/200\n",
      "9000/9000 [==============================] - 1s 80us/step - loss: 0.0019 - val_loss: 0.0018\n",
      "Epoch 5/200\n",
      "9000/9000 [==============================] - 1s 76us/step - loss: 0.0018 - val_loss: 0.0017\n",
      "Epoch 6/200\n",
      "9000/9000 [==============================] - 1s 77us/step - loss: 0.0017 - val_loss: 0.0017\n",
      "Epoch 7/200\n",
      "9000/9000 [==============================] - 1s 79us/step - loss: 0.0016 - val_loss: 0.0016\n",
      "Epoch 8/200\n",
      "9000/9000 [==============================] - 1s 75us/step - loss: 0.0016 - val_loss: 0.0016\n",
      "Epoch 9/200\n",
      "9000/9000 [==============================] - 1s 82us/step - loss: 0.0016 - val_loss: 0.0016\n",
      "Epoch 10/200\n",
      "9000/9000 [==============================] - 1s 108us/step - loss: 0.0015 - val_loss: 0.0015\n",
      "Epoch 11/200\n",
      "9000/9000 [==============================] - 1s 91us/step - loss: 0.0015 - val_loss: 0.0015\n",
      "Epoch 12/200\n",
      "9000/9000 [==============================] - 1s 84us/step - loss: 0.0015 - val_loss: 0.0015\n",
      "Epoch 13/200\n",
      "9000/9000 [==============================] - 1s 75us/step - loss: 0.0014 - val_loss: 0.0014\n",
      "Epoch 14/200\n",
      "9000/9000 [==============================] - 1s 74us/step - loss: 0.0014 - val_loss: 0.0014\n",
      "Epoch 15/200\n",
      "9000/9000 [==============================] - 1s 77us/step - loss: 0.0014 - val_loss: 0.0014\n",
      "Epoch 16/200\n",
      "9000/9000 [==============================] - 1s 79us/step - loss: 0.0014 - val_loss: 0.0014\n",
      "Epoch 17/200\n",
      "9000/9000 [==============================] - 1s 76us/step - loss: 0.0014 - val_loss: 0.0014\n",
      "Epoch 18/200\n",
      "9000/9000 [==============================] - 1s 76us/step - loss: 0.0014 - val_loss: 0.0014\n",
      "Epoch 19/200\n",
      "9000/9000 [==============================] - 1s 81us/step - loss: 0.0013 - val_loss: 0.0013\n",
      "Epoch 20/200\n",
      "9000/9000 [==============================] - 1s 78us/step - loss: 0.0013 - val_loss: 0.0013\n",
      "Epoch 21/200\n",
      "9000/9000 [==============================] - 1s 78us/step - loss: 0.0013 - val_loss: 0.0013\n",
      "Epoch 22/200\n",
      "9000/9000 [==============================] - 1s 73us/step - loss: 0.0013 - val_loss: 0.0013\n",
      "Epoch 23/200\n",
      "9000/9000 [==============================] - 1s 72us/step - loss: 0.0013 - val_loss: 0.0013\n",
      "Epoch 24/200\n",
      "9000/9000 [==============================] - 1s 72us/step - loss: 0.0013 - val_loss: 0.0013\n",
      "Epoch 25/200\n",
      "9000/9000 [==============================] - 1s 72us/step - loss: 0.0013 - val_loss: 0.0013\n",
      "Epoch 26/200\n",
      "9000/9000 [==============================] - 1s 71us/step - loss: 0.0013 - val_loss: 0.0013\n",
      "Epoch 27/200\n",
      "9000/9000 [==============================] - 1s 90us/step - loss: 0.0013 - val_loss: 0.0013\n",
      "Epoch 28/200\n",
      "9000/9000 [==============================] - 1s 93us/step - loss: 0.0013 - val_loss: 0.0013\n",
      "Epoch 29/200\n",
      "9000/9000 [==============================] - 1s 87us/step - loss: 0.0012 - val_loss: 0.0013\n",
      "Epoch 30/200\n",
      "9000/9000 [==============================] - 1s 84us/step - loss: 0.0012 - val_loss: 0.0013\n",
      "Epoch 31/200\n",
      "9000/9000 [==============================] - 1s 98us/step - loss: 0.0012 - val_loss: 0.0013\n",
      "Epoch 32/200\n",
      "9000/9000 [==============================] - 1s 86us/step - loss: 0.0012 - val_loss: 0.0012\n",
      "Epoch 33/200\n",
      "9000/9000 [==============================] - 1s 79us/step - loss: 0.0012 - val_loss: 0.0013\n",
      "Epoch 34/200\n",
      "9000/9000 [==============================] - 1s 73us/step - loss: 0.0012 - val_loss: 0.0012\n",
      "Epoch 35/200\n",
      "9000/9000 [==============================] - 1s 74us/step - loss: 0.0012 - val_loss: 0.0012\n",
      "Epoch 36/200\n",
      "9000/9000 [==============================] - 1s 73us/step - loss: 0.0012 - val_loss: 0.0012\n",
      "Epoch 37/200\n",
      "9000/9000 [==============================] - 1s 80us/step - loss: 0.0012 - val_loss: 0.0012\n",
      "Epoch 38/200\n",
      "9000/9000 [==============================] - 1s 78us/step - loss: 0.0012 - val_loss: 0.0012\n",
      "Epoch 39/200\n",
      "9000/9000 [==============================] - 1s 80us/step - loss: 0.0012 - val_loss: 0.0012\n",
      "Epoch 40/200\n",
      "9000/9000 [==============================] - 1s 84us/step - loss: 0.0012 - val_loss: 0.0012\n",
      "Epoch 41/200\n",
      "9000/9000 [==============================] - 1s 84us/step - loss: 0.0012 - val_loss: 0.0012\n",
      "Epoch 42/200\n",
      "9000/9000 [==============================] - 1s 87us/step - loss: 0.0012 - val_loss: 0.0012\n",
      "Epoch 43/200\n",
      "9000/9000 [==============================] - 1s 80us/step - loss: 0.0012 - val_loss: 0.0012\n",
      "Epoch 44/200\n",
      "9000/9000 [==============================] - 1s 75us/step - loss: 0.0012 - val_loss: 0.0012\n",
      "Epoch 45/200\n",
      "9000/9000 [==============================] - 1s 72us/step - loss: 0.0012 - val_loss: 0.0012\n",
      "Epoch 46/200\n",
      "9000/9000 [==============================] - 1s 74us/step - loss: 0.0012 - val_loss: 0.0012\n",
      "Epoch 47/200\n",
      "9000/9000 [==============================] - 1s 74us/step - loss: 0.0012 - val_loss: 0.0012\n",
      "Epoch 48/200\n",
      "9000/9000 [==============================] - 1s 74us/step - loss: 0.0012 - val_loss: 0.0012\n",
      "Epoch 49/200\n",
      "9000/9000 [==============================] - 1s 74us/step - loss: 0.0012 - val_loss: 0.0012\n",
      "Epoch 50/200\n",
      "9000/9000 [==============================] - 1s 73us/step - loss: 0.0012 - val_loss: 0.0012\n",
      "Epoch 51/200\n",
      "9000/9000 [==============================] - 1s 72us/step - loss: 0.0012 - val_loss: 0.0012\n",
      "Epoch 52/200\n",
      "9000/9000 [==============================] - 1s 73us/step - loss: 0.0012 - val_loss: 0.0012\n",
      "Epoch 53/200\n",
      "9000/9000 [==============================] - 1s 83us/step - loss: 0.0012 - val_loss: 0.0012\n",
      "Epoch 54/200\n",
      "9000/9000 [==============================] - 1s 78us/step - loss: 0.0012 - val_loss: 0.0012\n",
      "Epoch 55/200\n",
      "9000/9000 [==============================] - 1s 80us/step - loss: 0.0012 - val_loss: 0.0012\n",
      "Epoch 56/200\n",
      "9000/9000 [==============================] - 1s 75us/step - loss: 0.0012 - val_loss: 0.0012\n",
      "Epoch 57/200\n",
      "9000/9000 [==============================] - 1s 75us/step - loss: 0.0012 - val_loss: 0.0012\n",
      "Epoch 58/200\n",
      "9000/9000 [==============================] - 1s 80us/step - loss: 0.0012 - val_loss: 0.0012\n",
      "Epoch 59/200\n",
      "9000/9000 [==============================] - 1s 74us/step - loss: 0.0012 - val_loss: 0.0012\n",
      "Epoch 60/200\n",
      "9000/9000 [==============================] - 1s 73us/step - loss: 0.0012 - val_loss: 0.0012\n",
      "Epoch 61/200\n",
      "9000/9000 [==============================] - 1s 75us/step - loss: 0.0012 - val_loss: 0.0012\n",
      "Epoch 62/200\n",
      "9000/9000 [==============================] - 1s 78us/step - loss: 0.0012 - val_loss: 0.0012\n",
      "Epoch 63/200\n",
      "9000/9000 [==============================] - 1s 115us/step - loss: 0.0012 - val_loss: 0.0012\n",
      "Epoch 64/200\n",
      "9000/9000 [==============================] - 1s 111us/step - loss: 0.0012 - val_loss: 0.0012\n",
      "Epoch 65/200\n",
      "9000/9000 [==============================] - 1s 85us/step - loss: 0.0012 - val_loss: 0.0012\n",
      "Epoch 66/200\n",
      "9000/9000 [==============================] - 1s 89us/step - loss: 0.0012 - val_loss: 0.0012\n",
      "Epoch 67/200\n",
      "9000/9000 [==============================] - 1s 84us/step - loss: 0.0012 - val_loss: 0.0012\n",
      "Epoch 68/200\n",
      "9000/9000 [==============================] - 1s 94us/step - loss: 0.0012 - val_loss: 0.0012\n",
      "Epoch 69/200\n",
      "9000/9000 [==============================] - 1s 87us/step - loss: 0.0012 - val_loss: 0.0012\n",
      "Epoch 70/200\n",
      "9000/9000 [==============================] - 1s 92us/step - loss: 0.0012 - val_loss: 0.0012\n",
      "Epoch 71/200\n",
      "9000/9000 [==============================] - 1s 106us/step - loss: 0.0012 - val_loss: 0.0012\n",
      "Epoch 72/200\n",
      "9000/9000 [==============================] - 1s 102us/step - loss: 0.0012 - val_loss: 0.0012\n",
      "Epoch 73/200\n",
      "9000/9000 [==============================] - 1s 95us/step - loss: 0.0012 - val_loss: 0.0012\n",
      "Epoch 74/200\n",
      "9000/9000 [==============================] - 1s 83us/step - loss: 0.0012 - val_loss: 0.0012\n",
      "Epoch 75/200\n",
      "9000/9000 [==============================] - 1s 103us/step - loss: 0.0012 - val_loss: 0.0012\n",
      "Epoch 76/200\n",
      "9000/9000 [==============================] - 1s 97us/step - loss: 0.0012 - val_loss: 0.0012\n",
      "Epoch 77/200\n",
      "9000/9000 [==============================] - 1s 85us/step - loss: 0.0012 - val_loss: 0.0012\n",
      "Epoch 78/200\n",
      "9000/9000 [==============================] - 1s 78us/step - loss: 0.0012 - val_loss: 0.0012\n",
      "Epoch 79/200\n",
      "9000/9000 [==============================] - 1s 75us/step - loss: 0.0012 - val_loss: 0.0012\n",
      "Epoch 80/200\n",
      "9000/9000 [==============================] - 1s 76us/step - loss: 0.0012 - val_loss: 0.0012\n",
      "Epoch 81/200\n",
      "9000/9000 [==============================] - 1s 82us/step - loss: 0.0012 - val_loss: 0.0012\n",
      "Epoch 82/200\n",
      "9000/9000 [==============================] - 1s 117us/step - loss: 0.0012 - val_loss: 0.0012\n",
      "Epoch 83/200\n",
      "9000/9000 [==============================] - 1s 98us/step - loss: 0.0012 - val_loss: 0.0012\n",
      "Epoch 84/200\n",
      "9000/9000 [==============================] - 1s 78us/step - loss: 0.0012 - val_loss: 0.0012\n",
      "Epoch 85/200\n",
      "9000/9000 [==============================] - 1s 107us/step - loss: 0.0012 - val_loss: 0.0012\n",
      "Epoch 86/200\n",
      "9000/9000 [==============================] - 1s 101us/step - loss: 0.0012 - val_loss: 0.0012\n",
      "Epoch 87/200\n",
      "9000/9000 [==============================] - 1s 78us/step - loss: 0.0012 - val_loss: 0.0012\n",
      "Epoch 88/200\n",
      "9000/9000 [==============================] - 1s 78us/step - loss: 0.0012 - val_loss: 0.0012\n",
      "Epoch 89/200\n",
      "9000/9000 [==============================] - 1s 79us/step - loss: 0.0012 - val_loss: 0.0012\n",
      "Epoch 90/200\n",
      "9000/9000 [==============================] - 1s 86us/step - loss: 0.0012 - val_loss: 0.0012\n",
      "Epoch 91/200\n",
      "9000/9000 [==============================] - 1s 85us/step - loss: 0.0012 - val_loss: 0.0012\n",
      "Epoch 92/200\n",
      "9000/9000 [==============================] - 1s 99us/step - loss: 0.0012 - val_loss: 0.0012\n",
      "Epoch 93/200\n",
      "9000/9000 [==============================] - 1s 106us/step - loss: 0.0012 - val_loss: 0.0012\n",
      "Epoch 94/200\n",
      "9000/9000 [==============================] - 1s 106us/step - loss: 0.0012 - val_loss: 0.0012\n",
      "Epoch 95/200\n",
      "9000/9000 [==============================] - 1s 84us/step - loss: 0.0012 - val_loss: 0.0012\n",
      "Epoch 96/200\n",
      "9000/9000 [==============================] - 1s 96us/step - loss: 0.0012 - val_loss: 0.0012\n",
      "Epoch 97/200\n",
      "9000/9000 [==============================] - 1s 97us/step - loss: 0.0012 - val_loss: 0.0012\n",
      "Epoch 98/200\n",
      "9000/9000 [==============================] - 1s 81us/step - loss: 0.0012 - val_loss: 0.0012\n",
      "Epoch 99/200\n",
      "9000/9000 [==============================] - 1s 75us/step - loss: 0.0012 - val_loss: 0.0012\n",
      "Epoch 100/200\n",
      "9000/9000 [==============================] - 1s 75us/step - loss: 0.0012 - val_loss: 0.0012\n",
      "Epoch 101/200\n",
      "9000/9000 [==============================] - 1s 74us/step - loss: 0.0012 - val_loss: 0.0012\n",
      "Epoch 102/200\n",
      "9000/9000 [==============================] - 1s 72us/step - loss: 0.0012 - val_loss: 0.0012\n",
      "Epoch 103/200\n",
      "9000/9000 [==============================] - 1s 73us/step - loss: 0.0012 - val_loss: 0.0012\n",
      "Epoch 104/200\n",
      "9000/9000 [==============================] - 1s 80us/step - loss: 0.0012 - val_loss: 0.0012\n",
      "Epoch 105/200\n",
      "9000/9000 [==============================] - 1s 76us/step - loss: 0.0012 - val_loss: 0.0012\n",
      "Epoch 106/200\n",
      "9000/9000 [==============================] - 1s 73us/step - loss: 0.0012 - val_loss: 0.0012\n",
      "Epoch 107/200\n",
      "9000/9000 [==============================] - 1s 74us/step - loss: 0.0012 - val_loss: 0.0012\n",
      "Epoch 108/200\n",
      "9000/9000 [==============================] - 1s 80us/step - loss: 0.0012 - val_loss: 0.0012\n",
      "Epoch 109/200\n",
      "9000/9000 [==============================] - 1s 75us/step - loss: 0.0012 - val_loss: 0.0012\n",
      "Epoch 110/200\n",
      "9000/9000 [==============================] - 1s 73us/step - loss: 0.0012 - val_loss: 0.0012\n",
      "Epoch 111/200\n",
      "9000/9000 [==============================] - 1s 74us/step - loss: 0.0012 - val_loss: 0.0012\n",
      "Epoch 112/200\n",
      "9000/9000 [==============================] - 1s 81us/step - loss: 0.0012 - val_loss: 0.0012\n",
      "Epoch 113/200\n",
      "9000/9000 [==============================] - 1s 79us/step - loss: 0.0012 - val_loss: 0.0012\n",
      "Epoch 114/200\n",
      "9000/9000 [==============================] - 1s 79us/step - loss: 0.0012 - val_loss: 0.0012\n",
      "Epoch 115/200\n",
      "9000/9000 [==============================] - 1s 74us/step - loss: 0.0012 - val_loss: 0.0012\n",
      "Epoch 116/200\n",
      "9000/9000 [==============================] - 1s 79us/step - loss: 0.0012 - val_loss: 0.0012\n",
      "Epoch 117/200\n",
      "9000/9000 [==============================] - 1s 87us/step - loss: 0.0012 - val_loss: 0.0012\n",
      "Epoch 118/200\n",
      "9000/9000 [==============================] - 1s 76us/step - loss: 0.0012 - val_loss: 0.0012\n",
      "Epoch 119/200\n",
      "9000/9000 [==============================] - 1s 79us/step - loss: 0.0012 - val_loss: 0.0012\n",
      "Epoch 120/200\n",
      "9000/9000 [==============================] - 1s 85us/step - loss: 0.0012 - val_loss: 0.0012\n",
      "Epoch 121/200\n",
      "9000/9000 [==============================] - 1s 79us/step - loss: 0.0012 - val_loss: 0.0012\n",
      "Epoch 122/200\n",
      "9000/9000 [==============================] - 3s 367us/step - loss: 0.0012 - val_loss: 0.0012\n",
      "Epoch 123/200\n",
      "9000/9000 [==============================] - 1s 75us/step - loss: 0.0012 - val_loss: 0.0012\n",
      "Epoch 124/200\n",
      "9000/9000 [==============================] - 1s 74us/step - loss: 0.0012 - val_loss: 0.0012\n",
      "Epoch 125/200\n",
      "9000/9000 [==============================] - 1s 75us/step - loss: 0.0012 - val_loss: 0.0012\n",
      "Epoch 126/200\n",
      "9000/9000 [==============================] - 1s 72us/step - loss: 0.0012 - val_loss: 0.0012\n",
      "Epoch 127/200\n",
      "9000/9000 [==============================] - 1s 76us/step - loss: 0.0012 - val_loss: 0.0012\n",
      "Epoch 128/200\n",
      "9000/9000 [==============================] - 1s 81us/step - loss: 0.0012 - val_loss: 0.0012\n",
      "Epoch 129/200\n",
      "9000/9000 [==============================] - 1s 76us/step - loss: 0.0012 - val_loss: 0.0012\n",
      "Epoch 130/200\n",
      "9000/9000 [==============================] - 1s 73us/step - loss: 0.0012 - val_loss: 0.0012\n",
      "Epoch 131/200\n",
      "9000/9000 [==============================] - 1s 76us/step - loss: 0.0012 - val_loss: 0.0012\n",
      "Epoch 132/200\n",
      "9000/9000 [==============================] - 1s 107us/step - loss: 0.0012 - val_loss: 0.0012\n",
      "Epoch 133/200\n",
      "9000/9000 [==============================] - 1s 97us/step - loss: 0.0012 - val_loss: 0.0012\n",
      "Epoch 134/200\n",
      "9000/9000 [==============================] - 1s 98us/step - loss: 0.0012 - val_loss: 0.0012\n",
      "Epoch 135/200\n",
      "9000/9000 [==============================] - 1s 101us/step - loss: 0.0012 - val_loss: 0.0012\n",
      "Epoch 136/200\n",
      "9000/9000 [==============================] - 1s 91us/step - loss: 0.0012 - val_loss: 0.0012\n",
      "Epoch 137/200\n",
      "9000/9000 [==============================] - 1s 82us/step - loss: 0.0012 - val_loss: 0.0012\n",
      "Epoch 138/200\n",
      "9000/9000 [==============================] - 1s 79us/step - loss: 0.0012 - val_loss: 0.0012\n",
      "Epoch 139/200\n",
      "9000/9000 [==============================] - 1s 82us/step - loss: 0.0012 - val_loss: 0.0012\n",
      "Epoch 140/200\n",
      "9000/9000 [==============================] - 1s 80us/step - loss: 0.0012 - val_loss: 0.0012\n",
      "Epoch 141/200\n",
      "9000/9000 [==============================] - 1s 78us/step - loss: 0.0012 - val_loss: 0.0012\n",
      "Epoch 142/200\n",
      "9000/9000 [==============================] - 1s 84us/step - loss: 0.0012 - val_loss: 0.0012\n",
      "Epoch 143/200\n",
      "9000/9000 [==============================] - 1s 76us/step - loss: 0.0012 - val_loss: 0.0012\n",
      "Epoch 144/200\n",
      "9000/9000 [==============================] - 1s 76us/step - loss: 0.0012 - val_loss: 0.0012\n",
      "Epoch 145/200\n",
      "9000/9000 [==============================] - 1s 76us/step - loss: 0.0012 - val_loss: 0.0012\n",
      "Epoch 146/200\n",
      "9000/9000 [==============================] - 1s 75us/step - loss: 0.0012 - val_loss: 0.0012\n",
      "Epoch 147/200\n",
      "9000/9000 [==============================] - 1s 75us/step - loss: 0.0012 - val_loss: 0.0012\n",
      "Epoch 148/200\n",
      "9000/9000 [==============================] - 1s 76us/step - loss: 0.0012 - val_loss: 0.0012\n",
      "Epoch 149/200\n",
      "9000/9000 [==============================] - 1s 75us/step - loss: 0.0012 - val_loss: 0.0012\n",
      "Epoch 150/200\n",
      "9000/9000 [==============================] - 1s 75us/step - loss: 0.0012 - val_loss: 0.0012\n",
      "Epoch 151/200\n",
      "9000/9000 [==============================] - 1s 76us/step - loss: 0.0012 - val_loss: 0.0012\n",
      "Epoch 152/200\n",
      "9000/9000 [==============================] - 1s 76us/step - loss: 0.0012 - val_loss: 0.0012\n",
      "Epoch 153/200\n",
      "9000/9000 [==============================] - 1s 76us/step - loss: 0.0012 - val_loss: 0.0012\n",
      "Epoch 154/200\n",
      "9000/9000 [==============================] - 1s 75us/step - loss: 0.0012 - val_loss: 0.0012\n",
      "Epoch 155/200\n"
     ]
    },
    {
     "name": "stdout",
     "output_type": "stream",
     "text": [
      "9000/9000 [==============================] - 1s 78us/step - loss: 0.0012 - val_loss: 0.0012\n",
      "Epoch 156/200\n",
      "9000/9000 [==============================] - 1s 85us/step - loss: 0.0012 - val_loss: 0.0012\n",
      "Epoch 157/200\n",
      "9000/9000 [==============================] - 1s 98us/step - loss: 0.0012 - val_loss: 0.0012\n",
      "Epoch 158/200\n",
      "9000/9000 [==============================] - 1s 86us/step - loss: 0.0012 - val_loss: 0.0012\n",
      "Epoch 159/200\n",
      "9000/9000 [==============================] - 1s 74us/step - loss: 0.0012 - val_loss: 0.0012\n",
      "Epoch 160/200\n",
      "9000/9000 [==============================] - 1s 74us/step - loss: 0.0012 - val_loss: 0.0012\n",
      "Epoch 161/200\n",
      "9000/9000 [==============================] - 1s 75us/step - loss: 0.0012 - val_loss: 0.0012\n",
      "Epoch 162/200\n",
      "9000/9000 [==============================] - 1s 77us/step - loss: 0.0012 - val_loss: 0.0012\n",
      "Epoch 163/200\n",
      "9000/9000 [==============================] - 1s 73us/step - loss: 0.0012 - val_loss: 0.0012\n",
      "Epoch 164/200\n",
      "9000/9000 [==============================] - 1s 74us/step - loss: 0.0012 - val_loss: 0.0012\n",
      "Epoch 165/200\n",
      "9000/9000 [==============================] - 1s 74us/step - loss: 0.0012 - val_loss: 0.0012\n",
      "Epoch 166/200\n",
      "9000/9000 [==============================] - 1s 75us/step - loss: 0.0012 - val_loss: 0.0012\n",
      "Epoch 167/200\n",
      "9000/9000 [==============================] - 1s 74us/step - loss: 0.0012 - val_loss: 0.0012\n",
      "Epoch 168/200\n",
      "9000/9000 [==============================] - 1s 73us/step - loss: 0.0012 - val_loss: 0.0012\n",
      "Epoch 169/200\n",
      "9000/9000 [==============================] - 1s 74us/step - loss: 0.0012 - val_loss: 0.0012\n",
      "Epoch 170/200\n",
      "9000/9000 [==============================] - 1s 74us/step - loss: 0.0012 - val_loss: 0.0012\n",
      "Epoch 171/200\n",
      "9000/9000 [==============================] - 1s 74us/step - loss: 0.0012 - val_loss: 0.0012\n",
      "Epoch 172/200\n",
      "9000/9000 [==============================] - 1s 80us/step - loss: 0.0012 - val_loss: 0.0012\n",
      "Epoch 173/200\n",
      "9000/9000 [==============================] - 1s 74us/step - loss: 0.0012 - val_loss: 0.0012\n",
      "Epoch 174/200\n",
      "9000/9000 [==============================] - 1s 75us/step - loss: 0.0012 - val_loss: 0.0012\n",
      "Epoch 175/200\n",
      "9000/9000 [==============================] - 1s 74us/step - loss: 0.0012 - val_loss: 0.0012\n",
      "Epoch 176/200\n",
      "9000/9000 [==============================] - 1s 74us/step - loss: 0.0012 - val_loss: 0.0012\n",
      "Epoch 177/200\n",
      "9000/9000 [==============================] - 1s 75us/step - loss: 0.0012 - val_loss: 0.0012\n",
      "Epoch 178/200\n",
      "9000/9000 [==============================] - 1s 75us/step - loss: 0.0012 - val_loss: 0.0012\n",
      "Epoch 179/200\n",
      "9000/9000 [==============================] - 1s 75us/step - loss: 0.0012 - val_loss: 0.0012\n",
      "Epoch 180/200\n",
      "9000/9000 [==============================] - 1s 74us/step - loss: 0.0012 - val_loss: 0.0012\n",
      "Epoch 181/200\n",
      "9000/9000 [==============================] - 1s 74us/step - loss: 0.0012 - val_loss: 0.0012\n",
      "Epoch 182/200\n",
      "9000/9000 [==============================] - 1s 74us/step - loss: 0.0012 - val_loss: 0.0012\n",
      "Epoch 183/200\n",
      "9000/9000 [==============================] - 1s 75us/step - loss: 0.0012 - val_loss: 0.0012\n",
      "Epoch 184/200\n",
      "9000/9000 [==============================] - 1s 75us/step - loss: 0.0012 - val_loss: 0.0012\n",
      "Epoch 185/200\n",
      "9000/9000 [==============================] - 1s 75us/step - loss: 0.0012 - val_loss: 0.0012\n",
      "Epoch 186/200\n",
      "9000/9000 [==============================] - 1s 75us/step - loss: 0.0012 - val_loss: 0.0012\n",
      "Epoch 187/200\n",
      "9000/9000 [==============================] - 1s 78us/step - loss: 0.0012 - val_loss: 0.0012\n",
      "Epoch 188/200\n",
      "9000/9000 [==============================] - 1s 77us/step - loss: 0.0012 - val_loss: 0.0012\n",
      "Epoch 189/200\n",
      "9000/9000 [==============================] - 1s 78us/step - loss: 0.0012 - val_loss: 0.0012\n",
      "Epoch 190/200\n",
      "9000/9000 [==============================] - 1s 79us/step - loss: 0.0012 - val_loss: 0.0012\n",
      "Epoch 191/200\n",
      "9000/9000 [==============================] - 1s 74us/step - loss: 0.0012 - val_loss: 0.0012\n",
      "Epoch 192/200\n",
      "9000/9000 [==============================] - 1s 74us/step - loss: 0.0012 - val_loss: 0.0012\n",
      "Epoch 193/200\n",
      "9000/9000 [==============================] - 1s 74us/step - loss: 0.0012 - val_loss: 0.0012\n",
      "Epoch 194/200\n",
      "9000/9000 [==============================] - 1s 75us/step - loss: 0.0012 - val_loss: 0.0012\n",
      "Epoch 195/200\n",
      "9000/9000 [==============================] - 1s 74us/step - loss: 0.0012 - val_loss: 0.0012\n",
      "Epoch 196/200\n",
      "9000/9000 [==============================] - 1s 76us/step - loss: 0.0012 - val_loss: 0.0012\n",
      "Epoch 197/200\n",
      "9000/9000 [==============================] - 1s 74us/step - loss: 0.0012 - val_loss: 0.0012\n",
      "Epoch 198/200\n",
      "9000/9000 [==============================] - 1s 76us/step - loss: 0.0012 - val_loss: 0.0012\n",
      "Epoch 199/200\n",
      "9000/9000 [==============================] - 1s 75us/step - loss: 0.0012 - val_loss: 0.0012\n",
      "Epoch 200/200\n",
      "9000/9000 [==============================] - 1s 77us/step - loss: 0.0012 - val_loss: 0.0012\n"
     ]
    }
   ],
   "source": [
    "hist = m.fit(zernikes,actuators,batch_size=10,epochs=200, validation_split=.1)"
   ]
  },
  {
   "cell_type": "code",
   "execution_count": 45,
   "metadata": {},
   "outputs": [
    {
     "data": {
      "image/png": "[encoded data removed]",
      "text/plain": [
       "<matplotlib.figure.Figure at 0x11d25ab38>"
      ]
     },
     "metadata": {},
     "output_type": "display_data"
    }
   ],
   "source": [
    "plt.plot(hist.history[\"loss\"])\n",
    "plt.plot(hist.history[\"val_loss\"])\n",
    "plt.gca().set_yscale(\"log\")\n",
    "plt.gca().set_xscale(\"log\")"
   ]
  },
  {
   "cell_type": "code",
   "execution_count": 74,
   "metadata": {
    "collapsed": true
   },
   "outputs": [],
   "source": [
    "#flat = np.zeros((1,63))\n",
    "##Defocus is 5-4 = 1, Astigmation X is 4-4=0, Astigmation Y is 6-4=2\n",
    "field_generate = np.zeros((1,63))\n",
    "field_generate = field_generate.reshape((1,63))\n",
    "field_generate[0,4] = +0.2"
   ]
  },
  {
   "cell_type": "code",
   "execution_count": 75,
   "metadata": {
    "collapsed": true
   },
   "outputs": [],
   "source": [
    "a=m.predict(field_generate)"
   ]
  },
  {
   "cell_type": "code",
   "execution_count": 57,
   "metadata": {
    "collapsed": true
   },
   "outputs": [],
   "source": [
    "#trial=m.predict(zernikes)\n",
    "#trialdist = cdist(actuators,trial)"
   ]
  },
  {
   "cell_type": "code",
   "execution_count": 65,
   "metadata": {},
   "outputs": [
    {
     "data": {
      "text/plain": [
       "<matplotlib.image.AxesImage at 0x11a6ab588>"
      ]
     },
     "execution_count": 65,
     "metadata": {},
     "output_type": "execute_result"
    },
    {
     "data": {
      "image/png": "[encoded data removed]",
      "text/plain": [
       "<matplotlib.figure.Figure at 0x11e9e4550>"
      ]
     },
     "metadata": {},
     "output_type": "display_data"
    }
   ],
   "source": [
    "plt.subplot(2,2,1)\n",
    "mirror.plot_acc(a, cmap = \"coolwarm\")\n",
    "plt.subplot(2,2,2)\n",
    "plt.imshow(np.sum([_z*mirror.zern_modes[i+3] for i,_z in enumerate(field_generate.T)], axis = 0))\n",
    "#plt.axis('off') \n",
    "#plt.subplot(2,2,3)\n",
    "#mirror.plot_acc(trial[0,:], cmap = \"coolwarm\")\n",
    "#plt.subplot(2,2,4)\n",
    "#plt.imshow(np.sum([_z*mirror.zern_modes[i] for i,_z in enumerate(zernikes[0,:])], axis = 0))\n",
    "#plt.axis('off')"
   ]
  },
  {
   "cell_type": "code",
   "execution_count": 80,
   "metadata": {
    "collapsed": true
   },
   "outputs": [],
   "source": [
    "#Text file save\n",
    "now = datetime.datetime.now()\n",
    "os.mkdir(\"/Volumes/Debayan/Calibration_data_Alpao_BScope/GenerateAberrationModes_Neuonal/%s\"%now)\n",
    "modes_of_zern = np.array([0,1,2,3,4,5])\n",
    "values = np.arange(-0.2,0.2,0.01)\n",
    "for i in modes_of_zern:\n",
    "    for j in values:\n",
    "        field_generate = np.zeros((1,63))\n",
    "        field_generate = field_generate.reshape((1,63))\n",
    "        field_generate[0,i] = j\n",
    "        a=m.predict(field_generate)\n",
    "        np.savetxt(\"/Volumes/Debayan/Calibration_data_Alpao_BScope/GenerateAberrationModes_Neuonal/%s/%s_%f.txt\" %(now,Name[i],j), a, delimiter=\",\")"
   ]
  },
  {
   "cell_type": "code",
   "execution_count": 250,
   "metadata": {
    "collapsed": true
   },
   "outputs": [],
   "source": [
    "#Json file save\n",
    "now = datetime.datetime.now()\n",
    "os.mkdir(\"/Volumes/Debayan/Calibration_data_Alpao_BScope/GenerateAberrationModes_Neuonal/%s\"%now)\n",
    "modes_of_zern = np.array([1])\n",
    "values = np.arange(-0.1,0.1,0.01)\n",
    "for i in modes_of_zern:\n",
    "    for j in values:\n",
    "        field_generate = np.zeros((1,63))\n",
    "        field_generate = field_generate.reshape((1,63))\n",
    "        field_generate[0,i] = j\n",
    "        a=m.predict(field_generate)\n",
    "        act = np.zeros((11,11))\n",
    "        count = 0;\n",
    "        for k in range(0,11):\n",
    "             for l in range(0,11):\n",
    "                if k+l<=2:\n",
    "                    continue\n",
    "                elif k+l>=18:\n",
    "                    continue\n",
    "                elif abs(k-l)>=8:\n",
    "                    continue\n",
    "                else:\n",
    "                    act[k,l] = a[0,count]\n",
    "                count = count+1\n",
    "\n",
    "        ac = act.tolist()\n",
    "        filepath = open(\"/Volumes/Debayan/Calibration_data_Alpao_BScope/GenerateAberrationModes_Neuonal/%s/%s_%f.json\" %(now,Name[i],j),'w+')\n",
    "        json.dump(ac,filepath)\n",
    "        filepath.close()"
   ]
  },
  {
   "cell_type": "code",
   "execution_count": 764,
   "metadata": {
    "collapsed": true
   },
   "outputs": [],
   "source": [
    "#plt.figure(figsize=(10,7))\n",
    "#plt.plot(trial[0])\n",
    "#plt.plot(a2[0])\n",
    "#plt.plot(a3[0],\"r\")\n",
    "#plt.plot(actuators[0], \"k:\")"
   ]
  },
  {
   "cell_type": "code",
   "execution_count": 763,
   "metadata": {
    "collapsed": true
   },
   "outputs": [],
   "source": [
    "#plt.hist(trialdist.flatten())"
   ]
  },
  {
   "cell_type": "code",
   "execution_count": 762,
   "metadata": {
    "collapsed": true
   },
   "outputs": [],
   "source": [
    "#mirror = Calibration() \n",
    "#plt.subplot(2,2,1)\n",
    "#mirror.plot_acc(a3, cmap = \"coolwarm\")\n",
    "#plt.subplot(2,2,2)\n",
    "#plt.imshow(np.sum([_z*mirror.zern_modes[i] for i,_z in enumerate(flat.T)], axis = 0))\n",
    "#plt.axis('off')\n",
    "#plt.subplot(2,2,3)\n",
    "#mirror.plot_acc(a, cmap = \"coolwarm\")\n",
    "#plt.subplot(2,2,4)\n",
    "#plt.imshow(np.sum([_z*mirror.zern_modes[i] for i,_z in enumerate(flat.T)], axis = 0))\n",
    "#plt.axis('off')"
   ]
  },
  {
   "cell_type": "code",
   "execution_count": 156,
   "metadata": {
    "collapsed": true
   },
   "outputs": [],
   "source": [
    "act = np.zeros((11,11))\n",
    "count = 0;\n",
    "for i in range(0,11):\n",
    "     for j in range(0,11):\n",
    "        if i+j<=2:\n",
    "            continue\n",
    "        elif i+j>=18:\n",
    "            continue\n",
    "        elif abs(i-j)>=8:\n",
    "            continue\n",
    "        else:\n",
    "            act[i,j] = a[0,count]\n",
    "            count = count+1\n",
    "\n",
    "ac = act.tolist()\n",
    "#filepath = open(\"/Volumes/Debayan/Calibration_data_Alpao_BScope/NeuronalNetworkResult/AstigmationOblique.json\",'w+')\n",
    "filepath = open(\"/Volumes/Debayan/Calibration_data_Alpao_BScope/GenerateAberrationModes_Neuonal/Test.json\",'w+')\n",
    "json.dump(ac,filepath)"
   ]
  },
  {
   "cell_type": "code",
   "execution_count": 258,
   "metadata": {},
   "outputs": [
    {
     "data": {
      "text/plain": [
       "array([  2.20939000e-01,  -2.19225000e-01,  -1.21552000e-01,\n",
       "         6.22660000e-02,   5.59000000e-03,   4.96400000e-03,\n",
       "        -2.72480000e-02,   4.99070000e-02,   3.69300000e-02,\n",
       "         6.42750000e-02,   2.70120000e-02,   2.86800000e-03,\n",
       "         7.10500000e-03,   7.00400000e-03,   7.85600000e-03,\n",
       "         2.35540000e-02,  -1.24700000e-03,   3.23910000e-02,\n",
       "         4.20580000e-02,  -2.83260000e-02,  -2.25070000e-02,\n",
       "         4.90000000e-05,  -1.93040000e-02,   3.89200000e-03,\n",
       "        -1.16270000e-02,   2.81180000e-02,  -9.25400000e-03,\n",
       "        -1.20910000e-02,  -1.50800000e-02,  -1.72120000e-02,\n",
       "         5.50000000e-03,  -1.87980000e-02,  -7.68000000e-03,\n",
       "        -1.40350000e-02,  -2.30400000e-03,   4.14000000e-03,\n",
       "         7.09600000e-03,  -1.15570000e-02,   1.24630000e-02,\n",
       "        -6.93800000e-03,   1.52290000e-02,  -9.05400000e-03,\n",
       "         4.05900000e-03,  -1.10740000e-02,   7.80600000e-03,\n",
       "         7.52300000e-03,   6.10700000e-03,  -2.55000000e-04,\n",
       "        -2.54400000e-03,   6.40000000e-03,   6.45500000e-03,\n",
       "        -8.11000000e-04,  -4.45900000e-03,   8.69200000e-03,\n",
       "        -4.38400000e-03,   1.30600000e-03,  -5.57200000e-03,\n",
       "         8.96200000e-03,   6.77000000e-04,   2.55400000e-03,\n",
       "        -5.95400000e-03,  -2.53100000e-03,  -2.81900000e-03])"
      ]
     },
     "execution_count": 258,
     "metadata": {},
     "output_type": "execute_result"
    }
   ],
   "source": [
    "#np.savetxt(\"/Users/dsaha/Desktop/Neuronal_Defocus.txt\" , a, delimiter=\",\")\n",
    "zernikes[0,:]"
   ]
  },
  {
   "cell_type": "code",
   "execution_count": 76,
   "metadata": {
    "collapsed": true
   },
   "outputs": [],
   "source": [
    "np.savetxt(\"/Volumes/Debayan/Calibration_data_Alpao_BScope/GenerateAberrationModes_Neuonal/Test.txt\" , a, delimiter=\",\")\n",
    "#np.savetxt(\"/Volumes/Debayan/Calibration_data_Alpao_BScope/GenerateAberrationModes_Neuonal/Flat20180131.txt\" , a, delimiter=\",\")"
   ]
  },
  {
   "cell_type": "code",
   "execution_count": 302,
   "metadata": {
    "collapsed": true
   },
   "outputs": [],
   "source": [
    "#plt.figure(figsize=(10,7))\n",
    "#plt.plot(a[0])\n",
    "#plt.plot(a2[0])\n",
    "#plt.plot(a3[0],\"r\")\n",
    "#plt.plot(actuators[0], \"k:\")"
   ]
  },
  {
   "cell_type": "code",
   "execution_count": 299,
   "metadata": {
    "collapsed": true
   },
   "outputs": [],
   "source": [
    "#plt.subplot(2,2,1)\n",
    "#plt.plot(a3[0])\n",
    "#plt.subplot(2,2,2)\n",
    "#plt.plot(actuators[0], \"k:\")"
   ]
  },
  {
   "cell_type": "code",
   "execution_count": 767,
   "metadata": {
    "collapsed": true
   },
   "outputs": [],
   "source": [
    "#M2 = m.get_weights()[0]"
   ]
  },
  {
   "cell_type": "code",
   "execution_count": 768,
   "metadata": {
    "collapsed": true
   },
   "outputs": [],
   "source": [
    "#M.shape"
   ]
  },
  {
   "cell_type": "code",
   "execution_count": 769,
   "metadata": {
    "collapsed": true
   },
   "outputs": [],
   "source": [
    "#plt.figure(figsize=(10,7))\n",
    "#plt.imshow(M, cmap = \"magma\")\n",
    "#plt.axis(\"off\")\n"
   ]
  },
  {
   "cell_type": "code",
   "execution_count": 83,
   "metadata": {
    "collapsed": true
   },
   "outputs": [],
   "source": [
    "#da = cdist(actuators,actuators)\n",
    "#dz = cdist(zernikes,zernikes)"
   ]
  },
  {
   "cell_type": "code",
   "execution_count": 87,
   "metadata": {
    "collapsed": true
   },
   "outputs": [],
   "source": [
    "#plt.hist(dz.flatten(),50);"
   ]
  },
  {
   "cell_type": "code",
   "execution_count": 771,
   "metadata": {
    "collapsed": true
   },
   "outputs": [],
   "source": [
    "#x1,x2 = np.where(dz<0.3)\n",
    "#print(x1,x2)"
   ]
  },
  {
   "cell_type": "code",
   "execution_count": 772,
   "metadata": {
    "collapsed": true
   },
   "outputs": [],
   "source": [
    "#plt.hist(dz[dz>0].flatten(),50);"
   ]
  },
  {
   "cell_type": "code",
   "execution_count": 773,
   "metadata": {
    "collapsed": true
   },
   "outputs": [],
   "source": [
    "#delta = da/(dz+.0001)\n",
    "#print(da[1130,1132]/dz[1130,1132])\n",
    "#plt.hist(delta.flatten(),50);\n"
   ]
  },
  {
   "cell_type": "code",
   "execution_count": 774,
   "metadata": {
    "collapsed": true
   },
   "outputs": [],
   "source": [
    "#i1,i2 = np.where(delta>1.4)\n",
    "#i1.size\n",
    "#print(i1,i2)"
   ]
  },
  {
   "cell_type": "code",
   "execution_count": 775,
   "metadata": {
    "collapsed": true
   },
   "outputs": [],
   "source": [
    "#i1,i2 = np.where(np.bitwise_and(dz>0,dz<0.25))\n",
    "#i1.size\n",
    "#print(i1,i2)"
   ]
  },
  {
   "cell_type": "code",
   "execution_count": 777,
   "metadata": {
    "collapsed": true
   },
   "outputs": [],
   "source": [
    "#n = 0\n",
    "#mirror = Calibration() \n",
    "#plt.figure(figsize=(10,10))\n",
    "#plt.subplot(2,2,1)\n",
    "#plt.imshow(np.sum([_z*mirror.zern_modes[i] for i,_z in enumerate(zernikes[0,:])], axis = 0))\n",
    "#plt.axis(\"off\")\n",
    "#plt.subplot(2,2,2)\n",
    "#plt.imshow(np.sum([_z*mirror.zern_modes[i] for i,_z in enumerate(zernikes1[991,:])], axis = 0))\n",
    "#plt.axis(\"off\")\n",
    "#plt.subplot(2,2,3)\n",
    "#mirror.plot_acc(actuators[0,:], cmap = \"coolwarm\")\n",
    "#plt.subplot(2,2,4)\n",
    "#mirror.plot_acc(actuators1[991,:], cmap = \"coolwarm\")"
   ]
  },
  {
   "cell_type": "code",
   "execution_count": 776,
   "metadata": {
    "collapsed": true
   },
   "outputs": [],
   "source": [
    "#i1, i2 =np.unravel_index(np.argmax(delta), delta.shape)\n",
    "#print(i1,i2)"
   ]
  },
  {
   "cell_type": "code",
   "execution_count": 380,
   "metadata": {
    "collapsed": true
   },
   "outputs": [],
   "source": [
    "#a1, a2 = actuators[i1], actuators[i2]\n",
    "#z1, z2 = zernikes[i1], zernikes[i2]\n"
   ]
  },
  {
   "cell_type": "code",
   "execution_count": 778,
   "metadata": {
    "collapsed": true
   },
   "outputs": [],
   "source": [
    "#plt.plot(zernikes[0,:])\n",
    "#plt.plot(zernikes1[991,:])\n",
    "#print(np.sum((zernikes[0,:] - zernikes1[991,:])**2))"
   ]
  },
  {
   "cell_type": "code",
   "execution_count": 779,
   "metadata": {
    "collapsed": true
   },
   "outputs": [],
   "source": [
    "#plt.plot(z1[3])\n",
    "#plt.plot(z2[3])"
   ]
  },
  {
   "cell_type": "code",
   "execution_count": 780,
   "metadata": {
    "collapsed": true
   },
   "outputs": [],
   "source": [
    "#plt.plot(a1)\n",
    "#plt.plot(a2)"
   ]
  },
  {
   "cell_type": "code",
   "execution_count": 781,
   "metadata": {
    "collapsed": true
   },
   "outputs": [],
   "source": [
    "#plt.plot(zernikes[580])\n",
    "#plt.plot(zernikes[1576])\n",
    "#plt.plot(zernikes[1])\n"
   ]
  },
  {
   "cell_type": "code",
   "execution_count": 782,
   "metadata": {
    "collapsed": true
   },
   "outputs": [],
   "source": [
    "#plt.plot(actuators[1130])\n",
    "#plt.plot(actuators[1131])\n",
    "#plt.plot(actuators[1132])"
   ]
  },
  {
   "cell_type": "code",
   "execution_count": null,
   "metadata": {
    "collapsed": true
   },
   "outputs": [],
   "source": []
  }
 ],
 "metadata": {
  "kernelspec": {
   "display_name": "Python 3",
   "language": "python",
   "name": "python3"
  },
  "language_info": {
   "codemirror_mode": {
    "name": "ipython",
    "version": 3
   },
   "file_extension": ".py",
   "mimetype": "text/x-python",
   "name": "python",
   "nbconvert_exporter": "python",
   "pygments_lexer": "ipython3",
   "version": "3.6.1"
  }
 },
 "nbformat": 4,
 "nbformat_minor": 2
}
